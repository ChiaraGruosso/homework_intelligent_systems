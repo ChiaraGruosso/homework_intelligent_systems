{
  "cells": [
    {
      "cell_type": "markdown",
      "metadata": {
        "id": "view-in-github",
        "colab_type": "text"
      },
      "source": [
        "<a href=\"https://colab.research.google.com/github/ChiaraGruosso/homeworks_intelligent_systems/blob/main/detection.ipynb\" target=\"_parent\"><img src=\"https://colab.research.google.com/assets/colab-badge.svg\" alt=\"Open In Colab\"/></a>"
      ]
    },
    {
      "cell_type": "code",
      "execution_count": null,
      "metadata": {
        "id": "vrUhXR79JaXF",
        "colab": {
          "base_uri": "https://localhost:8080/"
        },
        "outputId": "8733343d-04b2-479b-f239-ca791e1846a3"
      },
      "outputs": [
        {
          "output_type": "stream",
          "name": "stdout",
          "text": [
            "Connecting to Drive....\n",
            "Mounted at /content/gdrive\n",
            "/content/gdrive/MyDrive/ProgettoVeP\n",
            "Done!\n"
          ]
        }
      ],
      "source": [
        "from google.colab import drive\n",
        "print('Connecting to Drive....')\n",
        "drive.mount('/content/gdrive')\n",
        "%cd /content/gdrive/MyDrive/ProgettoVeP/\n",
        "print('Done!!!')"
      ]
    },
    {
      "cell_type": "code",
      "execution_count": null,
      "metadata": {
        "id": "Qk0rYiBfJyu9"
      },
      "outputs": [],
      "source": [
        "!git clone https://github.com/ultralytics/yolov5\n",
        "!pip install -r yolov5/requirements.txt\n",
        "import torch\n",
        "print(\"Repo Clone Completed!\")"
      ]
    },
    {
      "cell_type": "code",
      "source": [
        "import cv2\n",
        "print(cv2.__version__)"
      ],
      "metadata": {
        "colab": {
          "base_uri": "https://localhost:8080/"
        },
        "id": "VGL0M08UzCEP",
        "outputId": "e600333f-7e7c-4b49-8bf6-c66d04bda8fa"
      },
      "execution_count": null,
      "outputs": [
        {
          "output_type": "stream",
          "name": "stdout",
          "text": [
            "4.1.2\n"
          ]
        }
      ]
    },
    {
      "cell_type": "code",
      "execution_count": null,
      "metadata": {
        "colab": {
          "background_save": true
        },
        "id": "fX8oygCeJ58R"
      },
      "outputs": [],
      "source": [
        "epoch_number = 320 #@param {type:\"slider\", min:100, max:1000, step:20}\n",
        "option = 'RESUME TRAINING' #@param [\"START TRAINING FROM BEGINNING\", \"RESUME TRAINING\"]\n",
        "weight = 'yolov5s.pt' #@param[\"yolov5s.pt\",\"yolov5m.pt\",\"yolov5l.pt\",\"yolov5x.pt\"]\n",
        "batch = 64 #@param {type:\"slider\", min:1, max:64, step:1}\n",
        "#@markdown Choosing the resume option ignore the epoch option and the weight option will be ignored\n",
        "\n",
        "if option == 'START TRAINING FROM BEGINNING':\n",
        "    \n",
        "    %rm -r /content/gdrive/MyDrive/ProgettoVeP/risultato/exp\n",
        "    !python /content/gdrive/MyDrive/ProgettoVeP/yolov5/train.py --img 416 --batch $batch --epochs $epoch_number --data /content/gdrive/MyDrive/ProgettoVeP/dataset/data.yaml --weights $weight --cache --project /content/gdrive/MyDrive/ProgettoVeP/risultato/\n",
        "    %rm -r /content/gdrive/MyDrive/ProgettoVeP/lastTrain/exp\n",
        "    %cp -r /content/gdrive/MyDrive/ProgettoVeP/risultato/exp /content/gdrive/MyDrive/ProgettoVeP/lastTrain/\n",
        "else :\n",
        "    !python /content/gdrive/MyDrive/ProgettoVeP/yolov5/train.py --resume /content/gdrive/MyDrive/ProgettoVeP/risultato/exp/weights/last.pt \n",
        "    %rm -r /content/gdrive/MyDrive/ProgettoVeP/lastTrain/exp\n",
        "    %cp -r /content/gdrive/MyDrive/ProgettoVeP/risultato/exp /content/gdrive/MyDrive/ProgettoVeP/lastTrain/"
      ]
    },
    {
      "cell_type": "code",
      "execution_count": null,
      "metadata": {
        "id": "S2N3tQWLPiVt"
      },
      "outputs": [],
      "source": [
        "!python /content/gdrive/MyDrive/ProgettoVeP/yolov5/detect.py --source /content/gdrive/MyDrive/ProgettoVeP/dataset/test/images --weights /content/gdrive/MyDrive/ProgettoVeP/lastTrain/exp/weights/best.pt --project /content/gdrive/MyDrive/ProgettoVeP/detection/\n",
        "                            "
      ]
    }
  ],
  "metadata": {
    "accelerator": "GPU",
    "colab": {
      "collapsed_sections": [],
      "name": "detection.ipynb",
      "provenance": [],
      "include_colab_link": true
    },
    "kernelspec": {
      "display_name": "Python 3",
      "name": "python3"
    },
    "language_info": {
      "name": "python"
    }
  },
  "nbformat": 4,
  "nbformat_minor": 0
}