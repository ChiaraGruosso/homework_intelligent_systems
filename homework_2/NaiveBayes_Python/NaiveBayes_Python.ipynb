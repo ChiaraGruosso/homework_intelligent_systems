{
 "cells": [
  {
   "cell_type": "code",
   "execution_count": 1,
   "id": "b44cc679",
   "metadata": {},
   "outputs": [],
   "source": [
    "import numpy as np\n",
    "import pandas as pd"
   ]
  },
  {
   "cell_type": "markdown",
   "id": "6f20dc00",
   "metadata": {},
   "source": [
    "# Define functions"
   ]
  },
  {
   "cell_type": "code",
   "execution_count": 2,
   "id": "10c38941",
   "metadata": {},
   "outputs": [],
   "source": [
    "def frequency(m, y, c):\n",
    "    count = 0\n",
    "    for i in range(m):\n",
    "        if y[i] == c:\n",
    "            count +=1\n",
    "    return count"
   ]
  },
  {
   "cell_type": "code",
   "execution_count": 3,
   "id": "d506e31f",
   "metadata": {},
   "outputs": [],
   "source": [
    "def probability_with_smoothing(m, num_labels, y, c):\n",
    "    frequency_c = frequency(m, y, c)\n",
    "    # print('Frequency:', frequency_c)\n",
    "    probability_class = (frequency_c + 1) / (m + num_labels)\n",
    "    # print('Probability', i+1, ':', probability_class)\n",
    "    return frequency_c, probability_class"
   ]
  },
  {
   "cell_type": "code",
   "execution_count": 4,
   "id": "72c14d49",
   "metadata": {},
   "outputs": [],
   "source": [
    "def frequency_class(x, column_X, y, c):\n",
    "    m = column_X.shape[0]\n",
    "    count = 0\n",
    "    for i in range(m):\n",
    "        if (column_X[i] == x) and (y[i] == c):\n",
    "            count +=1\n",
    "    # print('Count:', count)\n",
    "    return count"
   ]
  },
  {
   "cell_type": "code",
   "execution_count": 5,
   "id": "f2c85281",
   "metadata": {},
   "outputs": [],
   "source": [
    "def conditional_probability_with_smoothing(column_X, y, c, num_labels, frequency_c):\n",
    "    sum_prob = 0\n",
    "    column_X_set = np.unique(column_X)\n",
    "    for i in range(len(column_X_set)):\n",
    "        x = column_X_set[i]\n",
    "        frequency_x_class = frequency_class(x, column_X, y, c)\n",
    "        # print('Frequency:', frequency_x_class)\n",
    "        probability_x_class = (frequency_x_class + 1) / (frequency_c + num_labels)\n",
    "        # print('probability_x_class', i+1, ':', probability_x_class)\n",
    "        # print('log', i+1, ':', np.log(probability_x_class))\n",
    "        sum_prob += np.log(probability_x_class)\n",
    "    return sum_prob"
   ]
  },
  {
   "cell_type": "code",
   "execution_count": 6,
   "id": "c09a4e0b",
   "metadata": {},
   "outputs": [],
   "source": [
    "def compute_prediction(X, y, c, frequency_c, num_labels, probability_class):\n",
    "    [m, col] = X.shape  \n",
    "    sum_prob = 0\n",
    "    for i in range(col):            \n",
    "        sum_prob += conditional_probability_with_smoothing(X[:, i], y, c, num_labels, frequency_c)\n",
    "    prediction = probability_class * sum_prob\n",
    "    # print('Compute prediction:', prediction)\n",
    "    return prediction"
   ]
  },
  {
   "cell_type": "markdown",
   "id": "ef5dc19d",
   "metadata": {},
   "source": [
    "# Import data from text file and apply naive bayes algorithm"
   ]
  },
  {
   "cell_type": "code",
   "execution_count": 7,
   "id": "df0544ec",
   "metadata": {},
   "outputs": [
    {
     "name": "stdout",
     "output_type": "stream",
     "text": [
      "Number of examples: 105\n",
      "y_set: [1. 2. 3.]\n",
      "frequency_c 1 : 35\n",
      "frequency_c 2 : 38\n",
      "frequency_c 3 : 32\n",
      "Prediction 1 : -118.34639638640783\n",
      "Probability 1 : 0.3411913926278408\n",
      "Prediction 2 : -125.45075852907742\n",
      "Probability 2 : 0.36167319255756253\n",
      "Prediction 3 : -103.06504308695908\n",
      "Probability 3 : 0.29713541481459677\n",
      "Flower with max prob: 2\n"
     ]
    }
   ],
   "source": [
    "csvdata = np.matrix(pd.read_csv(\"iris.csv\", header=None))\n",
    "num_labels = 3\n",
    "c = csvdata.shape[1]\n",
    "X = np.array(csvdata[:, 0:(c - 1)])\n",
    "y = np.array(csvdata[:, (c - 1)])\n",
    "\n",
    "set_size = y.size\n",
    "rand_indices = np.random.permutation(set_size)\n",
    "\n",
    "X = X[rand_indices, :]\n",
    "y = y[rand_indices]\n",
    "\n",
    "train_size = np.ceil(set_size * 0.7).astype('uint8')\n",
    "\n",
    "X_train = X[0:train_size, :].copy()\n",
    "y_train = y[0:train_size].copy()\n",
    "\n",
    "m = X_train.shape[0]\n",
    "print('Number of examples:', m)\n",
    "\n",
    "y_set = np.unique(y_train)\n",
    "print('y_set:', y_set)\n",
    "predictions = []\n",
    "for i in range(len(y_set)):\n",
    "    [frequency_c, probability_class] = probability_with_smoothing(m, num_labels, y_train, y_set[i])\n",
    "    print('frequency_c', i+1, ':', frequency_c)\n",
    "    predictions.append(compute_prediction(X_train, y_train, y_set[i], frequency_c, num_labels, probability_class))\n",
    "denominator = np.sum(predictions)\n",
    "\n",
    "max_prob = 0\n",
    "max_i = 0\n",
    "for i in range(len(predictions)):\n",
    "    probability = predictions[i] / denominator\n",
    "    if probability > max_prob:\n",
    "        max_prob = probability\n",
    "        max_i = i\n",
    "    print('Prediction', i+1, ':', predictions[i])\n",
    "    print('Probability', i+1, ':', probability)\n",
    "print('Flower with max prob:', max_i+1)"
   ]
  },
  {
   "cell_type": "code",
   "execution_count": null,
   "id": "99bcef90",
   "metadata": {},
   "outputs": [],
   "source": []
  }
 ],
 "metadata": {
  "kernelspec": {
   "display_name": "Python 3 (ipykernel)",
   "language": "python",
   "name": "python3"
  },
  "language_info": {
   "codemirror_mode": {
    "name": "ipython",
    "version": 3
   },
   "file_extension": ".py",
   "mimetype": "text/x-python",
   "name": "python",
   "nbconvert_exporter": "python",
   "pygments_lexer": "ipython3",
   "version": "3.9.7"
  }
 },
 "nbformat": 4,
 "nbformat_minor": 5
}
